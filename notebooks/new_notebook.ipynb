{
 "cells": [
  {
   "cell_type": "code",
   "execution_count": 1,
   "metadata": {},
   "outputs": [],
   "source": [
    "import pandas as pd\n",
    "import numpy as np"
   ]
  },
  {
   "cell_type": "code",
   "execution_count": 11,
   "metadata": {},
   "outputs": [
    {
     "name": "stderr",
     "output_type": "stream",
     "text": [
      "<>:1: SyntaxWarning: invalid escape sequence '\\m'\n",
      "<>:1: SyntaxWarning: invalid escape sequence '\\m'\n",
      "C:\\Users\\abhil\\AppData\\Local\\Temp\\ipykernel_14900\\3648955013.py:1: SyntaxWarning: invalid escape sequence '\\m'\n",
      "  df = pd.read_csv('C:/Users/abhil/OneDrive/Desktop/real_estate_project/Real_Estate_ML_Project/data/missing_value_imputation\\missing_value_imputated_data.csv')\n"
     ]
    }
   ],
   "source": [
    "df = pd.read_csv('C:/Users/abhil/OneDrive/Desktop/real_estate_project/Real_Estate_ML_Project/data/missing_value_imputation/missing_value_imputated_data.csv')"
   ]
  },
  {
   "cell_type": "code",
   "execution_count": 12,
   "metadata": {},
   "outputs": [
    {
     "name": "stdout",
     "output_type": "stream",
     "text": [
      "<class 'pandas.core.frame.DataFrame'>\n",
      "RangeIndex: 3697 entries, 0 to 3696\n",
      "Data columns (total 18 columns):\n",
      " #   Column           Non-Null Count  Dtype  \n",
      "---  ------           --------------  -----  \n",
      " 0   property_type    3697 non-null   object \n",
      " 1   society          3696 non-null   object \n",
      " 2   sector           3697 non-null   object \n",
      " 3   price            3697 non-null   float64\n",
      " 4   price_per_sqft   3697 non-null   float64\n",
      " 5   bedRoom          3697 non-null   int64  \n",
      " 6   bathroom         3697 non-null   int64  \n",
      " 7   balcony          3697 non-null   object \n",
      " 8   floorNum         3697 non-null   float64\n",
      " 9   agePossession    3697 non-null   object \n",
      " 10  built_up_area    3697 non-null   float64\n",
      " 11  study room       3697 non-null   int64  \n",
      " 12  servant room     3697 non-null   int64  \n",
      " 13  store room       3697 non-null   int64  \n",
      " 14  pooja room       3697 non-null   int64  \n",
      " 15  others           3697 non-null   int64  \n",
      " 16  furnishing_type  3697 non-null   int64  \n",
      " 17  luxury_score     3697 non-null   int64  \n",
      "dtypes: float64(4), int64(9), object(5)\n",
      "memory usage: 520.0+ KB\n"
     ]
    }
   ],
   "source": [
    "df.info()"
   ]
  },
  {
   "cell_type": "code",
   "execution_count": 13,
   "metadata": {},
   "outputs": [],
   "source": [
    "new_df = pd.read_csv(\"C:/Users/abhil/OneDrive/Desktop/real_estate_project/Real_Estate_ML_Project/data/feature_selection/post_feature_selection_data.csv\")"
   ]
  },
  {
   "cell_type": "code",
   "execution_count": 14,
   "metadata": {},
   "outputs": [
    {
     "name": "stdout",
     "output_type": "stream",
     "text": [
      "<class 'pandas.core.frame.DataFrame'>\n",
      "RangeIndex: 3697 entries, 0 to 3696\n",
      "Data columns (total 13 columns):\n",
      " #   Column           Non-Null Count  Dtype  \n",
      "---  ------           --------------  -----  \n",
      " 0   property_type    3697 non-null   object \n",
      " 1   sector           3697 non-null   object \n",
      " 2   bedRoom          3697 non-null   int64  \n",
      " 3   bathroom         3697 non-null   int64  \n",
      " 4   balcony          3697 non-null   object \n",
      " 5   agePossession    3697 non-null   object \n",
      " 6   built_up_area    3697 non-null   float64\n",
      " 7   servant room     3697 non-null   int64  \n",
      " 8   store room       3697 non-null   int64  \n",
      " 9   furnishing_type  3697 non-null   int64  \n",
      " 10  luxury_category  3697 non-null   object \n",
      " 11  floor_category   3697 non-null   object \n",
      " 12  price            3697 non-null   float64\n",
      "dtypes: float64(2), int64(5), object(6)\n",
      "memory usage: 375.6+ KB\n"
     ]
    }
   ],
   "source": [
    "new_df.info()"
   ]
  },
  {
   "cell_type": "code",
   "execution_count": null,
   "metadata": {},
   "outputs": [],
   "source": []
  }
 ],
 "metadata": {
  "kernelspec": {
   "display_name": "Python 3",
   "language": "python",
   "name": "python3"
  },
  "language_info": {
   "codemirror_mode": {
    "name": "ipython",
    "version": 3
   },
   "file_extension": ".py",
   "mimetype": "text/x-python",
   "name": "python",
   "nbconvert_exporter": "python",
   "pygments_lexer": "ipython3",
   "version": "3.12.3"
  }
 },
 "nbformat": 4,
 "nbformat_minor": 2
}
